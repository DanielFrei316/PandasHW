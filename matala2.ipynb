{
 "cells": [
  {
   "cell_type": "code",
   "execution_count": 37,
   "id": "6902cc5b-64dc-4336-a58f-b0c6ca999f64",
   "metadata": {
    "tags": []
   },
   "outputs": [],
   "source": [
    "import pandas as pd"
   ]
  },
  {
   "cell_type": "code",
   "execution_count": 38,
   "id": "38518016-c4cb-4111-9570-b4808f2bdca0",
   "metadata": {
    "tags": []
   },
   "outputs": [],
   "source": [
    "import numpy as np\n"
   ]
  },
  {
   "cell_type": "code",
   "execution_count": 39,
   "id": "022ce9ff-8514-4915-b86d-077d43598a81",
   "metadata": {
    "tags": []
   },
   "outputs": [],
   "source": [
    "import matplotlib.pyplot as plt"
   ]
  },
  {
   "cell_type": "code",
   "execution_count": 40,
   "id": "53bccd15-196e-48f7-ac69-8ab877385f7f",
   "metadata": {
    "tags": []
   },
   "outputs": [],
   "source": [
    "from tkinter import filedialog"
   ]
  },
  {
   "cell_type": "code",
   "execution_count": 41,
   "id": "17a7d144-cf42-49c9-844e-b3523aa0cff1",
   "metadata": {
    "tags": []
   },
   "outputs": [],
   "source": [
    "data = pd.read_csv('matala2_cosmetics_2019-Nov.csv', low_memory=False)"
   ]
  },
  {
   "cell_type": "code",
   "execution_count": 42,
   "id": "a698692e-dc58-4bea-90e5-2b18086086ad",
   "metadata": {
    "tags": []
   },
   "outputs": [
    {
     "data": {
      "text/html": [
       "<div>\n",
       "<style scoped>\n",
       "    .dataframe tbody tr th:only-of-type {\n",
       "        vertical-align: middle;\n",
       "    }\n",
       "\n",
       "    .dataframe tbody tr th {\n",
       "        vertical-align: top;\n",
       "    }\n",
       "\n",
       "    .dataframe thead th {\n",
       "        text-align: right;\n",
       "    }\n",
       "</style>\n",
       "<table border=\"1\" class=\"dataframe\">\n",
       "  <thead>\n",
       "    <tr style=\"text-align: right;\">\n",
       "      <th></th>\n",
       "      <th>event_time</th>\n",
       "      <th>event_type</th>\n",
       "      <th>product_id</th>\n",
       "      <th>category_id</th>\n",
       "      <th>category_code</th>\n",
       "      <th>brand</th>\n",
       "      <th>price</th>\n",
       "      <th>user_id</th>\n",
       "      <th>user_session</th>\n",
       "    </tr>\n",
       "  </thead>\n",
       "  <tbody>\n",
       "    <tr>\n",
       "      <th>0</th>\n",
       "      <td>2019-11-01 00:00:02</td>\n",
       "      <td>view</td>\n",
       "      <td>5802432</td>\n",
       "      <td>1487580009286590000</td>\n",
       "      <td>NaN</td>\n",
       "      <td>NaN</td>\n",
       "      <td>0.32</td>\n",
       "      <td>562076640</td>\n",
       "      <td>09fafd6c-6c99-46b1-834f-33527f4de241</td>\n",
       "    </tr>\n",
       "    <tr>\n",
       "      <th>1</th>\n",
       "      <td>2019-11-01 00:00:09</td>\n",
       "      <td>cart</td>\n",
       "      <td>5844397</td>\n",
       "      <td>1487580006317030000</td>\n",
       "      <td>NaN</td>\n",
       "      <td>NaN</td>\n",
       "      <td>2.38 sale</td>\n",
       "      <td>553329724</td>\n",
       "      <td>2067216c-31b5-455d-a1cc-af0575a34ffb</td>\n",
       "    </tr>\n",
       "    <tr>\n",
       "      <th>2</th>\n",
       "      <td>2019-11-01 00:00:10</td>\n",
       "      <td>view</td>\n",
       "      <td>5837166</td>\n",
       "      <td>1783999064103190000</td>\n",
       "      <td>NaN</td>\n",
       "      <td>pnb</td>\n",
       "      <td>22.22</td>\n",
       "      <td>556138645</td>\n",
       "      <td>57ed222e-a54a-4907-9944-5a875c2d7f4f</td>\n",
       "    </tr>\n",
       "    <tr>\n",
       "      <th>3</th>\n",
       "      <td>2019-11-01 00:00:11</td>\n",
       "      <td>cart</td>\n",
       "      <td>5876812</td>\n",
       "      <td>1487580010100290000</td>\n",
       "      <td>NaN</td>\n",
       "      <td>jessnail</td>\n",
       "      <td>3.16</td>\n",
       "      <td>564506666</td>\n",
       "      <td>186c1951-8052-4b37-adce-dd9644b1d5f7</td>\n",
       "    </tr>\n",
       "    <tr>\n",
       "      <th>4</th>\n",
       "      <td>2019-11-01 00:00:24</td>\n",
       "      <td>remove_from_cart</td>\n",
       "      <td>5826182</td>\n",
       "      <td>1487580007483040000</td>\n",
       "      <td>NaN</td>\n",
       "      <td>NaN</td>\n",
       "      <td>3.33</td>\n",
       "      <td>553329724</td>\n",
       "      <td>2067216c-31b5-455d-a1cc-af0575a34ffb</td>\n",
       "    </tr>\n",
       "  </tbody>\n",
       "</table>\n",
       "</div>"
      ],
      "text/plain": [
       "            event_time        event_type  product_id          category_id   \n",
       "0  2019-11-01 00:00:02              view     5802432  1487580009286590000  \\\n",
       "1  2019-11-01 00:00:09              cart     5844397  1487580006317030000   \n",
       "2  2019-11-01 00:00:10              view     5837166  1783999064103190000   \n",
       "3  2019-11-01 00:00:11              cart     5876812  1487580010100290000   \n",
       "4  2019-11-01 00:00:24  remove_from_cart     5826182  1487580007483040000   \n",
       "\n",
       "  category_code     brand      price    user_id   \n",
       "0           NaN       NaN       0.32  562076640  \\\n",
       "1           NaN       NaN  2.38 sale  553329724   \n",
       "2           NaN       pnb      22.22  556138645   \n",
       "3           NaN  jessnail       3.16  564506666   \n",
       "4           NaN       NaN       3.33  553329724   \n",
       "\n",
       "                           user_session  \n",
       "0  09fafd6c-6c99-46b1-834f-33527f4de241  \n",
       "1  2067216c-31b5-455d-a1cc-af0575a34ffb  \n",
       "2  57ed222e-a54a-4907-9944-5a875c2d7f4f  \n",
       "3  186c1951-8052-4b37-adce-dd9644b1d5f7  \n",
       "4  2067216c-31b5-455d-a1cc-af0575a34ffb  "
      ]
     },
     "execution_count": 42,
     "metadata": {},
     "output_type": "execute_result"
    }
   ],
   "source": [
    "data.head(5)"
   ]
  },
  {
   "cell_type": "markdown",
   "id": "156e7ebb-ee38-427e-95a5-08ced1c75e51",
   "metadata": {},
   "source": [
    "### display the column names"
   ]
  },
  {
   "cell_type": "code",
   "execution_count": 43,
   "id": "d5c4933a-d7de-4c80-bd4c-3ee2fffd2080",
   "metadata": {
    "tags": []
   },
   "outputs": [],
   "source": [
    "column_names = data.columns"
   ]
  },
  {
   "cell_type": "code",
   "execution_count": 44,
   "id": "9a303b51-80c1-4713-96d8-5732f9861fc5",
   "metadata": {
    "tags": []
   },
   "outputs": [
    {
     "data": {
      "text/plain": [
       "Index(['event_time', 'event_type', 'product_id', 'category_id',\n",
       "       'category_code', 'brand', 'price', 'user_id', 'user_session'],\n",
       "      dtype='object')"
      ]
     },
     "execution_count": 44,
     "metadata": {},
     "output_type": "execute_result"
    }
   ],
   "source": [
    "column_names"
   ]
  },
  {
   "cell_type": "markdown",
   "id": "b0fc9099-05ce-4cc0-ab2b-44615efded3c",
   "metadata": {},
   "source": [
    "# Q1"
   ]
  },
  {
   "cell_type": "markdown",
   "id": "8a6788a4-7956-4556-9e56-4995d897d248",
   "metadata": {},
   "source": [
    "### Sorting the data by the user's ID, session number and time"
   ]
  },
  {
   "cell_type": "code",
   "execution_count": 45,
   "id": "da330efc-93aa-48df-ba55-4003c9bb77c9",
   "metadata": {
    "tags": []
   },
   "outputs": [],
   "source": [
    "data.sort_values(['user_id', 'user_session', 'event_time'], inplace=True)"
   ]
  },
  {
   "cell_type": "code",
   "execution_count": 46,
   "id": "235aa775-72b0-4f46-9bac-c6aa68342430",
   "metadata": {
    "tags": []
   },
   "outputs": [],
   "source": [
    "#data.head(5)"
   ]
  },
  {
   "cell_type": "code",
   "execution_count": 47,
   "id": "dd14803b-b86f-4090-8e11-5d7ec2b4bee3",
   "metadata": {
    "tags": []
   },
   "outputs": [],
   "source": [
    "data['event_time'] = pd.to_datetime(data['event_time'])"
   ]
  },
  {
   "cell_type": "markdown",
   "id": "31b8d861-ad03-46c9-a447-6f73af8686e3",
   "metadata": {
    "tags": []
   },
   "source": [
    "### Know we will group the data by the user's unique details"
   ]
  },
  {
   "cell_type": "code",
   "execution_count": 48,
   "id": "ffa9b122-c849-490e-9f01-33bea8e74df0",
   "metadata": {
    "tags": []
   },
   "outputs": [],
   "source": [
    "grouped_data = data.groupby(['user_id', 'user_session'])"
   ]
  },
  {
   "cell_type": "code",
   "execution_count": 49,
   "id": "cbd6107b-6386-400b-b6bb-269e1d4819c2",
   "metadata": {
    "tags": []
   },
   "outputs": [],
   "source": [
    "#grouped_data.head(5)"
   ]
  },
  {
   "cell_type": "markdown",
   "id": "7e6d275c-4a48-4d51-a49b-b8f9cf02ba58",
   "metadata": {},
   "source": [
    "### Calculate the duration between consecutive events in each session"
   ]
  },
  {
   "cell_type": "code",
   "execution_count": 50,
   "id": "7cd798eb-b650-499f-8236-fc7f6e24cb70",
   "metadata": {
    "tags": []
   },
   "outputs": [],
   "source": [
    "data['duration_to_next_event'] = grouped_data['event_time'].shift(-1) - data['event_time']"
   ]
  },
  {
   "cell_type": "markdown",
   "id": "26c624e6-93a9-4154-87f7-a8d49ad3053a",
   "metadata": {},
   "source": [
    "### For the last event in each session, fill the duration with 0"
   ]
  },
  {
   "cell_type": "code",
   "execution_count": 51,
   "id": "f73c2cf0-614a-4db0-8acc-de45dc664c8d",
   "metadata": {
    "tags": []
   },
   "outputs": [],
   "source": [
    "data.loc[grouped_data['event_time'].shift(-1).isna(), 'duration_to_next_event'] = pd.Timedelta(seconds=0)"
   ]
  },
  {
   "cell_type": "markdown",
   "id": "a49a5a5a-14bb-4ecf-8f70-fed2fdb0bfa9",
   "metadata": {},
   "source": [
    "### Convert the duration to seconds"
   ]
  },
  {
   "cell_type": "code",
   "execution_count": 52,
   "id": "1affdfb3-457a-46b7-b14b-3a8b375a9c16",
   "metadata": {
    "tags": []
   },
   "outputs": [],
   "source": [
    "#data['duration_to_next_event'] = data['duration_to_next_event'].astype(str)"
   ]
  },
  {
   "cell_type": "code",
   "execution_count": 53,
   "id": "fe7967a7-374b-4111-9ba6-732a40457a49",
   "metadata": {
    "tags": []
   },
   "outputs": [],
   "source": [
    "data['duration_to_next_event'] = pd.to_timedelta(data['duration_to_next_event']).dt.total_seconds()"
   ]
  },
  {
   "cell_type": "code",
   "execution_count": 54,
   "id": "bc76ab03-2b4f-41a1-86d8-809f7b074386",
   "metadata": {
    "tags": []
   },
   "outputs": [],
   "source": [
    "#data['duration_to_next_event'] = data['duration_to_next_event'].dt.total_seconds()"
   ]
  },
  {
   "cell_type": "code",
   "execution_count": 55,
   "id": "c8d5e7d9-8e31-41da-aabd-3b6db0d8d6ec",
   "metadata": {
    "tags": []
   },
   "outputs": [
    {
     "data": {
      "text/html": [
       "<div>\n",
       "<style scoped>\n",
       "    .dataframe tbody tr th:only-of-type {\n",
       "        vertical-align: middle;\n",
       "    }\n",
       "\n",
       "    .dataframe tbody tr th {\n",
       "        vertical-align: top;\n",
       "    }\n",
       "\n",
       "    .dataframe thead th {\n",
       "        text-align: right;\n",
       "    }\n",
       "</style>\n",
       "<table border=\"1\" class=\"dataframe\">\n",
       "  <thead>\n",
       "    <tr style=\"text-align: right;\">\n",
       "      <th></th>\n",
       "      <th>event_time</th>\n",
       "      <th>event_type</th>\n",
       "      <th>product_id</th>\n",
       "      <th>category_id</th>\n",
       "      <th>category_code</th>\n",
       "      <th>brand</th>\n",
       "      <th>price</th>\n",
       "      <th>user_id</th>\n",
       "      <th>user_session</th>\n",
       "      <th>duration_to_next_event</th>\n",
       "    </tr>\n",
       "  </thead>\n",
       "  <tbody>\n",
       "    <tr>\n",
       "      <th>437209</th>\n",
       "      <td>2019-11-04 15:28:57</td>\n",
       "      <td>view</td>\n",
       "      <td>5240</td>\n",
       "      <td>1487580009202710000</td>\n",
       "      <td>NaN</td>\n",
       "      <td>runail</td>\n",
       "      <td>4.05</td>\n",
       "      <td>1120748</td>\n",
       "      <td>d0484d94-7ac1-44e8-a310-2360da11ad9d</td>\n",
       "      <td>0.0</td>\n",
       "    </tr>\n",
       "    <tr>\n",
       "      <th>697519</th>\n",
       "      <td>2019-11-06 10:40:34</td>\n",
       "      <td>cart</td>\n",
       "      <td>5614842</td>\n",
       "      <td>1487580005411060000</td>\n",
       "      <td>NaN</td>\n",
       "      <td>cnd</td>\n",
       "      <td>13.56</td>\n",
       "      <td>10079204</td>\n",
       "      <td>f873d16b-4efa-4e92-81be-92948aef2ff5</td>\n",
       "      <td>52.0</td>\n",
       "    </tr>\n",
       "    <tr>\n",
       "      <th>697645</th>\n",
       "      <td>2019-11-06 10:41:26</td>\n",
       "      <td>cart</td>\n",
       "      <td>5766379</td>\n",
       "      <td>1783999067156640000</td>\n",
       "      <td>NaN</td>\n",
       "      <td>kaaral</td>\n",
       "      <td>12.25</td>\n",
       "      <td>10079204</td>\n",
       "      <td>f873d16b-4efa-4e92-81be-92948aef2ff5</td>\n",
       "      <td>124.0</td>\n",
       "    </tr>\n",
       "    <tr>\n",
       "      <th>698043</th>\n",
       "      <td>2019-11-06 10:43:30</td>\n",
       "      <td>purchase</td>\n",
       "      <td>5766379</td>\n",
       "      <td>1783999067156640000</td>\n",
       "      <td>NaN</td>\n",
       "      <td>kaaral</td>\n",
       "      <td>12.25</td>\n",
       "      <td>10079204</td>\n",
       "      <td>f873d16b-4efa-4e92-81be-92948aef2ff5</td>\n",
       "      <td>0.0</td>\n",
       "    </tr>\n",
       "    <tr>\n",
       "      <th>698045</th>\n",
       "      <td>2019-11-06 10:43:30</td>\n",
       "      <td>purchase</td>\n",
       "      <td>5614842</td>\n",
       "      <td>1487580005411060000</td>\n",
       "      <td>NaN</td>\n",
       "      <td>cnd</td>\n",
       "      <td>13.56</td>\n",
       "      <td>10079204</td>\n",
       "      <td>f873d16b-4efa-4e92-81be-92948aef2ff5</td>\n",
       "      <td>0.0</td>\n",
       "    </tr>\n",
       "  </tbody>\n",
       "</table>\n",
       "</div>"
      ],
      "text/plain": [
       "                event_time event_type  product_id          category_id   \n",
       "437209 2019-11-04 15:28:57       view        5240  1487580009202710000  \\\n",
       "697519 2019-11-06 10:40:34       cart     5614842  1487580005411060000   \n",
       "697645 2019-11-06 10:41:26       cart     5766379  1783999067156640000   \n",
       "698043 2019-11-06 10:43:30   purchase     5766379  1783999067156640000   \n",
       "698045 2019-11-06 10:43:30   purchase     5614842  1487580005411060000   \n",
       "\n",
       "       category_code   brand  price   user_id   \n",
       "437209           NaN  runail   4.05   1120748  \\\n",
       "697519           NaN     cnd  13.56  10079204   \n",
       "697645           NaN  kaaral  12.25  10079204   \n",
       "698043           NaN  kaaral  12.25  10079204   \n",
       "698045           NaN     cnd  13.56  10079204   \n",
       "\n",
       "                                user_session  duration_to_next_event  \n",
       "437209  d0484d94-7ac1-44e8-a310-2360da11ad9d                     0.0  \n",
       "697519  f873d16b-4efa-4e92-81be-92948aef2ff5                    52.0  \n",
       "697645  f873d16b-4efa-4e92-81be-92948aef2ff5                   124.0  \n",
       "698043  f873d16b-4efa-4e92-81be-92948aef2ff5                     0.0  \n",
       "698045  f873d16b-4efa-4e92-81be-92948aef2ff5                     0.0  "
      ]
     },
     "execution_count": 55,
     "metadata": {},
     "output_type": "execute_result"
    }
   ],
   "source": [
    "data.head(5)"
   ]
  },
  {
   "cell_type": "markdown",
   "id": "127150dd-14b9-457a-bc8d-6635f4df4a8e",
   "metadata": {},
   "source": [
    "##### You can see that we did get a column that shows the seconds between each transaction.\n",
    "##### You can also see that there are two transactions of the same user that have been created at the same second, therefore there are two rows with the value 0 for the same user"
   ]
  },
  {
   "cell_type": "markdown",
   "id": "3fd97560-2955-49dc-95e7-2ea43feb69ff",
   "metadata": {},
   "source": [
    "# Q2"
   ]
  },
  {
   "cell_type": "markdown",
   "id": "c1971309-3f5f-4a4d-9cad-95928e6e3674",
   "metadata": {},
   "source": [
    "#### Creating a column that calculates the gap between every session of a user"
   ]
  },
  {
   "cell_type": "code",
   "execution_count": 56,
   "id": "a304fdb1-ba48-4543-a0a3-69895dd8cdc4",
   "metadata": {
    "tags": []
   },
   "outputs": [],
   "source": [
    "data['session_gap'] = data.groupby('user_id')['event_time'].diff().fillna(pd.Timedelta(seconds=0))"
   ]
  },
  {
   "cell_type": "markdown",
   "id": "5d2e5ac0-5734-4841-9199-23237b3b891a",
   "metadata": {},
   "source": [
    "#### We will create the 'funnel_number' column that checks if the 'session_gap' is greater than 5. If so, we will use the cumsum() method to sum the previous panels of the user and add 1 to start the counting from 1 instead of 0."
   ]
  },
  {
   "cell_type": "code",
   "execution_count": 57,
   "id": "2a9634af-7e95-4f19-809f-fcef3445af47",
   "metadata": {
    "tags": []
   },
   "outputs": [],
   "source": [
    "data['funnel_number'] = (data['session_gap'] > pd.Timedelta(days=5)).cumsum() + 1"
   ]
  },
  {
   "cell_type": "code",
   "execution_count": 58,
   "id": "633da641-8e83-4e1f-b1e6-23424f4283d6",
   "metadata": {
    "tags": []
   },
   "outputs": [],
   "source": [
    "data = data.drop(['session_gap'], axis=1)"
   ]
  },
  {
   "cell_type": "code",
   "execution_count": 59,
   "id": "ab4d2ad8-509e-4566-9eea-1056b7d9bdad",
   "metadata": {
    "tags": []
   },
   "outputs": [
    {
     "data": {
      "text/html": [
       "<div>\n",
       "<style scoped>\n",
       "    .dataframe tbody tr th:only-of-type {\n",
       "        vertical-align: middle;\n",
       "    }\n",
       "\n",
       "    .dataframe tbody tr th {\n",
       "        vertical-align: top;\n",
       "    }\n",
       "\n",
       "    .dataframe thead th {\n",
       "        text-align: right;\n",
       "    }\n",
       "</style>\n",
       "<table border=\"1\" class=\"dataframe\">\n",
       "  <thead>\n",
       "    <tr style=\"text-align: right;\">\n",
       "      <th></th>\n",
       "      <th>event_time</th>\n",
       "      <th>event_type</th>\n",
       "      <th>product_id</th>\n",
       "      <th>category_id</th>\n",
       "      <th>category_code</th>\n",
       "      <th>brand</th>\n",
       "      <th>price</th>\n",
       "      <th>user_id</th>\n",
       "      <th>user_session</th>\n",
       "      <th>duration_to_next_event</th>\n",
       "      <th>funnel_number</th>\n",
       "    </tr>\n",
       "  </thead>\n",
       "  <tbody>\n",
       "    <tr>\n",
       "      <th>437209</th>\n",
       "      <td>2019-11-04 15:28:57</td>\n",
       "      <td>view</td>\n",
       "      <td>5240</td>\n",
       "      <td>1487580009202710000</td>\n",
       "      <td>NaN</td>\n",
       "      <td>runail</td>\n",
       "      <td>4.05</td>\n",
       "      <td>1120748</td>\n",
       "      <td>d0484d94-7ac1-44e8-a310-2360da11ad9d</td>\n",
       "      <td>0.0</td>\n",
       "      <td>1</td>\n",
       "    </tr>\n",
       "    <tr>\n",
       "      <th>697519</th>\n",
       "      <td>2019-11-06 10:40:34</td>\n",
       "      <td>cart</td>\n",
       "      <td>5614842</td>\n",
       "      <td>1487580005411060000</td>\n",
       "      <td>NaN</td>\n",
       "      <td>cnd</td>\n",
       "      <td>13.56</td>\n",
       "      <td>10079204</td>\n",
       "      <td>f873d16b-4efa-4e92-81be-92948aef2ff5</td>\n",
       "      <td>52.0</td>\n",
       "      <td>1</td>\n",
       "    </tr>\n",
       "    <tr>\n",
       "      <th>697645</th>\n",
       "      <td>2019-11-06 10:41:26</td>\n",
       "      <td>cart</td>\n",
       "      <td>5766379</td>\n",
       "      <td>1783999067156640000</td>\n",
       "      <td>NaN</td>\n",
       "      <td>kaaral</td>\n",
       "      <td>12.25</td>\n",
       "      <td>10079204</td>\n",
       "      <td>f873d16b-4efa-4e92-81be-92948aef2ff5</td>\n",
       "      <td>124.0</td>\n",
       "      <td>1</td>\n",
       "    </tr>\n",
       "    <tr>\n",
       "      <th>698043</th>\n",
       "      <td>2019-11-06 10:43:30</td>\n",
       "      <td>purchase</td>\n",
       "      <td>5766379</td>\n",
       "      <td>1783999067156640000</td>\n",
       "      <td>NaN</td>\n",
       "      <td>kaaral</td>\n",
       "      <td>12.25</td>\n",
       "      <td>10079204</td>\n",
       "      <td>f873d16b-4efa-4e92-81be-92948aef2ff5</td>\n",
       "      <td>0.0</td>\n",
       "      <td>1</td>\n",
       "    </tr>\n",
       "    <tr>\n",
       "      <th>698045</th>\n",
       "      <td>2019-11-06 10:43:30</td>\n",
       "      <td>purchase</td>\n",
       "      <td>5614842</td>\n",
       "      <td>1487580005411060000</td>\n",
       "      <td>NaN</td>\n",
       "      <td>cnd</td>\n",
       "      <td>13.56</td>\n",
       "      <td>10079204</td>\n",
       "      <td>f873d16b-4efa-4e92-81be-92948aef2ff5</td>\n",
       "      <td>0.0</td>\n",
       "      <td>1</td>\n",
       "    </tr>\n",
       "  </tbody>\n",
       "</table>\n",
       "</div>"
      ],
      "text/plain": [
       "                event_time event_type  product_id          category_id   \n",
       "437209 2019-11-04 15:28:57       view        5240  1487580009202710000  \\\n",
       "697519 2019-11-06 10:40:34       cart     5614842  1487580005411060000   \n",
       "697645 2019-11-06 10:41:26       cart     5766379  1783999067156640000   \n",
       "698043 2019-11-06 10:43:30   purchase     5766379  1783999067156640000   \n",
       "698045 2019-11-06 10:43:30   purchase     5614842  1487580005411060000   \n",
       "\n",
       "       category_code   brand  price   user_id   \n",
       "437209           NaN  runail   4.05   1120748  \\\n",
       "697519           NaN     cnd  13.56  10079204   \n",
       "697645           NaN  kaaral  12.25  10079204   \n",
       "698043           NaN  kaaral  12.25  10079204   \n",
       "698045           NaN     cnd  13.56  10079204   \n",
       "\n",
       "                                user_session  duration_to_next_event   \n",
       "437209  d0484d94-7ac1-44e8-a310-2360da11ad9d                     0.0  \\\n",
       "697519  f873d16b-4efa-4e92-81be-92948aef2ff5                    52.0   \n",
       "697645  f873d16b-4efa-4e92-81be-92948aef2ff5                   124.0   \n",
       "698043  f873d16b-4efa-4e92-81be-92948aef2ff5                     0.0   \n",
       "698045  f873d16b-4efa-4e92-81be-92948aef2ff5                     0.0   \n",
       "\n",
       "        funnel_number  \n",
       "437209              1  \n",
       "697519              1  \n",
       "697645              1  \n",
       "698043              1  \n",
       "698045              1  "
      ]
     },
     "execution_count": 59,
     "metadata": {},
     "output_type": "execute_result"
    }
   ],
   "source": [
    "data.head(5)"
   ]
  },
  {
   "cell_type": "markdown",
   "id": "7a980459-86d0-43c4-80e4-1fa09ccc96ea",
   "metadata": {},
   "source": [
    "# Q3"
   ]
  },
  {
   "cell_type": "markdown",
   "id": "41538b3d-f3ba-4ca4-afce-10ec9afc85e8",
   "metadata": {},
   "source": [
    "#### I am grouping the data by user_id and funnel_number, this way the cumcount() could do an index that take in account alsow the user and the funnel."
   ]
  },
  {
   "cell_type": "code",
   "execution_count": 60,
   "id": "f528dd94-6712-47ac-b2d8-e30d8118bccc",
   "metadata": {
    "tags": []
   },
   "outputs": [],
   "source": [
    "data['index_in_funnel'] = data.groupby(['user_id', 'funnel_number']).cumcount() + 1"
   ]
  },
  {
   "cell_type": "code",
   "execution_count": 61,
   "id": "097e8bfb-7785-44a2-bcd2-5d1054a04c0a",
   "metadata": {
    "tags": []
   },
   "outputs": [
    {
     "data": {
      "text/html": [
       "<div>\n",
       "<style scoped>\n",
       "    .dataframe tbody tr th:only-of-type {\n",
       "        vertical-align: middle;\n",
       "    }\n",
       "\n",
       "    .dataframe tbody tr th {\n",
       "        vertical-align: top;\n",
       "    }\n",
       "\n",
       "    .dataframe thead th {\n",
       "        text-align: right;\n",
       "    }\n",
       "</style>\n",
       "<table border=\"1\" class=\"dataframe\">\n",
       "  <thead>\n",
       "    <tr style=\"text-align: right;\">\n",
       "      <th></th>\n",
       "      <th>event_time</th>\n",
       "      <th>event_type</th>\n",
       "      <th>product_id</th>\n",
       "      <th>category_id</th>\n",
       "      <th>category_code</th>\n",
       "      <th>brand</th>\n",
       "      <th>price</th>\n",
       "      <th>user_id</th>\n",
       "      <th>user_session</th>\n",
       "      <th>duration_to_next_event</th>\n",
       "      <th>funnel_number</th>\n",
       "      <th>index_in_funnel</th>\n",
       "    </tr>\n",
       "  </thead>\n",
       "  <tbody>\n",
       "    <tr>\n",
       "      <th>437209</th>\n",
       "      <td>2019-11-04 15:28:57</td>\n",
       "      <td>view</td>\n",
       "      <td>5240</td>\n",
       "      <td>1487580009202710000</td>\n",
       "      <td>NaN</td>\n",
       "      <td>runail</td>\n",
       "      <td>4.05</td>\n",
       "      <td>1120748</td>\n",
       "      <td>d0484d94-7ac1-44e8-a310-2360da11ad9d</td>\n",
       "      <td>0.0</td>\n",
       "      <td>1</td>\n",
       "      <td>1</td>\n",
       "    </tr>\n",
       "    <tr>\n",
       "      <th>697519</th>\n",
       "      <td>2019-11-06 10:40:34</td>\n",
       "      <td>cart</td>\n",
       "      <td>5614842</td>\n",
       "      <td>1487580005411060000</td>\n",
       "      <td>NaN</td>\n",
       "      <td>cnd</td>\n",
       "      <td>13.56</td>\n",
       "      <td>10079204</td>\n",
       "      <td>f873d16b-4efa-4e92-81be-92948aef2ff5</td>\n",
       "      <td>52.0</td>\n",
       "      <td>1</td>\n",
       "      <td>1</td>\n",
       "    </tr>\n",
       "    <tr>\n",
       "      <th>697645</th>\n",
       "      <td>2019-11-06 10:41:26</td>\n",
       "      <td>cart</td>\n",
       "      <td>5766379</td>\n",
       "      <td>1783999067156640000</td>\n",
       "      <td>NaN</td>\n",
       "      <td>kaaral</td>\n",
       "      <td>12.25</td>\n",
       "      <td>10079204</td>\n",
       "      <td>f873d16b-4efa-4e92-81be-92948aef2ff5</td>\n",
       "      <td>124.0</td>\n",
       "      <td>1</td>\n",
       "      <td>2</td>\n",
       "    </tr>\n",
       "    <tr>\n",
       "      <th>698043</th>\n",
       "      <td>2019-11-06 10:43:30</td>\n",
       "      <td>purchase</td>\n",
       "      <td>5766379</td>\n",
       "      <td>1783999067156640000</td>\n",
       "      <td>NaN</td>\n",
       "      <td>kaaral</td>\n",
       "      <td>12.25</td>\n",
       "      <td>10079204</td>\n",
       "      <td>f873d16b-4efa-4e92-81be-92948aef2ff5</td>\n",
       "      <td>0.0</td>\n",
       "      <td>1</td>\n",
       "      <td>3</td>\n",
       "    </tr>\n",
       "    <tr>\n",
       "      <th>698045</th>\n",
       "      <td>2019-11-06 10:43:30</td>\n",
       "      <td>purchase</td>\n",
       "      <td>5614842</td>\n",
       "      <td>1487580005411060000</td>\n",
       "      <td>NaN</td>\n",
       "      <td>cnd</td>\n",
       "      <td>13.56</td>\n",
       "      <td>10079204</td>\n",
       "      <td>f873d16b-4efa-4e92-81be-92948aef2ff5</td>\n",
       "      <td>0.0</td>\n",
       "      <td>1</td>\n",
       "      <td>4</td>\n",
       "    </tr>\n",
       "  </tbody>\n",
       "</table>\n",
       "</div>"
      ],
      "text/plain": [
       "                event_time event_type  product_id          category_id   \n",
       "437209 2019-11-04 15:28:57       view        5240  1487580009202710000  \\\n",
       "697519 2019-11-06 10:40:34       cart     5614842  1487580005411060000   \n",
       "697645 2019-11-06 10:41:26       cart     5766379  1783999067156640000   \n",
       "698043 2019-11-06 10:43:30   purchase     5766379  1783999067156640000   \n",
       "698045 2019-11-06 10:43:30   purchase     5614842  1487580005411060000   \n",
       "\n",
       "       category_code   brand  price   user_id   \n",
       "437209           NaN  runail   4.05   1120748  \\\n",
       "697519           NaN     cnd  13.56  10079204   \n",
       "697645           NaN  kaaral  12.25  10079204   \n",
       "698043           NaN  kaaral  12.25  10079204   \n",
       "698045           NaN     cnd  13.56  10079204   \n",
       "\n",
       "                                user_session  duration_to_next_event   \n",
       "437209  d0484d94-7ac1-44e8-a310-2360da11ad9d                     0.0  \\\n",
       "697519  f873d16b-4efa-4e92-81be-92948aef2ff5                    52.0   \n",
       "697645  f873d16b-4efa-4e92-81be-92948aef2ff5                   124.0   \n",
       "698043  f873d16b-4efa-4e92-81be-92948aef2ff5                     0.0   \n",
       "698045  f873d16b-4efa-4e92-81be-92948aef2ff5                     0.0   \n",
       "\n",
       "        funnel_number  index_in_funnel  \n",
       "437209              1                1  \n",
       "697519              1                1  \n",
       "697645              1                2  \n",
       "698043              1                3  \n",
       "698045              1                4  "
      ]
     },
     "execution_count": 61,
     "metadata": {},
     "output_type": "execute_result"
    }
   ],
   "source": [
    "data.head(5)"
   ]
  },
  {
   "cell_type": "markdown",
   "id": "3d895c60-6366-495e-9276-a2c66d1427b1",
   "metadata": {},
   "source": [
    "# Q4"
   ]
  },
  {
   "cell_type": "code",
   "execution_count": 62,
   "id": "6fbc3238-8c91-4866-999e-cebc30cd2524",
   "metadata": {
    "tags": []
   },
   "outputs": [],
   "source": [
    "import re"
   ]
  },
  {
   "cell_type": "code",
   "execution_count": 63,
   "id": "140a23a5-5179-4694-bda1-f45dc3799a45",
   "metadata": {
    "tags": []
   },
   "outputs": [],
   "source": [
    "data['price'] = data['price'].str.replace(r'[^\\d\\.]+', '', regex=True).astype(float)"
   ]
  },
  {
   "cell_type": "code",
   "execution_count": 64,
   "id": "6d7f1c0a-f1a5-4b3a-98c9-7ac601d676bb",
   "metadata": {
    "tags": []
   },
   "outputs": [
    {
     "data": {
      "text/html": [
       "<div>\n",
       "<style scoped>\n",
       "    .dataframe tbody tr th:only-of-type {\n",
       "        vertical-align: middle;\n",
       "    }\n",
       "\n",
       "    .dataframe tbody tr th {\n",
       "        vertical-align: top;\n",
       "    }\n",
       "\n",
       "    .dataframe thead th {\n",
       "        text-align: right;\n",
       "    }\n",
       "</style>\n",
       "<table border=\"1\" class=\"dataframe\">\n",
       "  <thead>\n",
       "    <tr style=\"text-align: right;\">\n",
       "      <th></th>\n",
       "      <th>event_time</th>\n",
       "      <th>event_type</th>\n",
       "      <th>product_id</th>\n",
       "      <th>category_id</th>\n",
       "      <th>category_code</th>\n",
       "      <th>brand</th>\n",
       "      <th>price</th>\n",
       "      <th>user_id</th>\n",
       "      <th>user_session</th>\n",
       "      <th>duration_to_next_event</th>\n",
       "      <th>funnel_number</th>\n",
       "      <th>index_in_funnel</th>\n",
       "    </tr>\n",
       "  </thead>\n",
       "  <tbody>\n",
       "    <tr>\n",
       "      <th>437209</th>\n",
       "      <td>2019-11-04 15:28:57</td>\n",
       "      <td>view</td>\n",
       "      <td>5240</td>\n",
       "      <td>1487580009202710000</td>\n",
       "      <td>NaN</td>\n",
       "      <td>runail</td>\n",
       "      <td>4.05</td>\n",
       "      <td>1120748</td>\n",
       "      <td>d0484d94-7ac1-44e8-a310-2360da11ad9d</td>\n",
       "      <td>0.0</td>\n",
       "      <td>1</td>\n",
       "      <td>1</td>\n",
       "    </tr>\n",
       "    <tr>\n",
       "      <th>697519</th>\n",
       "      <td>2019-11-06 10:40:34</td>\n",
       "      <td>cart</td>\n",
       "      <td>5614842</td>\n",
       "      <td>1487580005411060000</td>\n",
       "      <td>NaN</td>\n",
       "      <td>cnd</td>\n",
       "      <td>13.56</td>\n",
       "      <td>10079204</td>\n",
       "      <td>f873d16b-4efa-4e92-81be-92948aef2ff5</td>\n",
       "      <td>52.0</td>\n",
       "      <td>1</td>\n",
       "      <td>1</td>\n",
       "    </tr>\n",
       "    <tr>\n",
       "      <th>697645</th>\n",
       "      <td>2019-11-06 10:41:26</td>\n",
       "      <td>cart</td>\n",
       "      <td>5766379</td>\n",
       "      <td>1783999067156640000</td>\n",
       "      <td>NaN</td>\n",
       "      <td>kaaral</td>\n",
       "      <td>12.25</td>\n",
       "      <td>10079204</td>\n",
       "      <td>f873d16b-4efa-4e92-81be-92948aef2ff5</td>\n",
       "      <td>124.0</td>\n",
       "      <td>1</td>\n",
       "      <td>2</td>\n",
       "    </tr>\n",
       "    <tr>\n",
       "      <th>698043</th>\n",
       "      <td>2019-11-06 10:43:30</td>\n",
       "      <td>purchase</td>\n",
       "      <td>5766379</td>\n",
       "      <td>1783999067156640000</td>\n",
       "      <td>NaN</td>\n",
       "      <td>kaaral</td>\n",
       "      <td>12.25</td>\n",
       "      <td>10079204</td>\n",
       "      <td>f873d16b-4efa-4e92-81be-92948aef2ff5</td>\n",
       "      <td>0.0</td>\n",
       "      <td>1</td>\n",
       "      <td>3</td>\n",
       "    </tr>\n",
       "    <tr>\n",
       "      <th>698045</th>\n",
       "      <td>2019-11-06 10:43:30</td>\n",
       "      <td>purchase</td>\n",
       "      <td>5614842</td>\n",
       "      <td>1487580005411060000</td>\n",
       "      <td>NaN</td>\n",
       "      <td>cnd</td>\n",
       "      <td>13.56</td>\n",
       "      <td>10079204</td>\n",
       "      <td>f873d16b-4efa-4e92-81be-92948aef2ff5</td>\n",
       "      <td>0.0</td>\n",
       "      <td>1</td>\n",
       "      <td>4</td>\n",
       "    </tr>\n",
       "  </tbody>\n",
       "</table>\n",
       "</div>"
      ],
      "text/plain": [
       "                event_time event_type  product_id          category_id   \n",
       "437209 2019-11-04 15:28:57       view        5240  1487580009202710000  \\\n",
       "697519 2019-11-06 10:40:34       cart     5614842  1487580005411060000   \n",
       "697645 2019-11-06 10:41:26       cart     5766379  1783999067156640000   \n",
       "698043 2019-11-06 10:43:30   purchase     5766379  1783999067156640000   \n",
       "698045 2019-11-06 10:43:30   purchase     5614842  1487580005411060000   \n",
       "\n",
       "       category_code   brand  price   user_id   \n",
       "437209           NaN  runail   4.05   1120748  \\\n",
       "697519           NaN     cnd  13.56  10079204   \n",
       "697645           NaN  kaaral  12.25  10079204   \n",
       "698043           NaN  kaaral  12.25  10079204   \n",
       "698045           NaN     cnd  13.56  10079204   \n",
       "\n",
       "                                user_session  duration_to_next_event   \n",
       "437209  d0484d94-7ac1-44e8-a310-2360da11ad9d                     0.0  \\\n",
       "697519  f873d16b-4efa-4e92-81be-92948aef2ff5                    52.0   \n",
       "697645  f873d16b-4efa-4e92-81be-92948aef2ff5                   124.0   \n",
       "698043  f873d16b-4efa-4e92-81be-92948aef2ff5                     0.0   \n",
       "698045  f873d16b-4efa-4e92-81be-92948aef2ff5                     0.0   \n",
       "\n",
       "        funnel_number  index_in_funnel  \n",
       "437209              1                1  \n",
       "697519              1                1  \n",
       "697645              1                2  \n",
       "698043              1                3  \n",
       "698045              1                4  "
      ]
     },
     "execution_count": 64,
     "metadata": {},
     "output_type": "execute_result"
    }
   ],
   "source": [
    "data.head(5)"
   ]
  },
  {
   "cell_type": "code",
   "execution_count": 65,
   "id": "3ecd7c79-9c00-4313-a633-7cc66601348c",
   "metadata": {
    "tags": []
   },
   "outputs": [],
   "source": [
    "#for i, val in enumerate(data['price']):\n",
    "    #if not val.isnumeric():\n",
    "       # print(f\"Invalid value '{val}' at index {i}\")\n"
   ]
  },
  {
   "cell_type": "markdown",
   "id": "f48ee5b4-76cf-463e-97f0-63d661a5c23d",
   "metadata": {},
   "source": [
    "# Q5"
   ]
  },
  {
   "cell_type": "code",
   "execution_count": 66,
   "id": "4b6c9d99-61ef-47a7-820c-a46b69efca6f",
   "metadata": {
    "tags": []
   },
   "outputs": [],
   "source": [
    "event_types = data['event_type'].unique()"
   ]
  },
  {
   "cell_type": "code",
   "execution_count": 67,
   "id": "75735bfb-6433-4a8e-bea7-0a5c9bb4fa06",
   "metadata": {
    "tags": []
   },
   "outputs": [],
   "source": [
    "event_counts = data['event_type'].value_counts()"
   ]
  },
  {
   "cell_type": "code",
   "execution_count": 68,
   "id": "54ac8138-7fbd-4095-9b83-5b9e44047a34",
   "metadata": {
    "tags": []
   },
   "outputs": [
    {
     "data": {
      "image/png": "[encoded data removed]",
      "text/plain": [
       "<Figure size 640x480 with 1 Axes>"
      ]
     },
     "metadata": {},
     "output_type": "display_data"
    }
   ],
   "source": [
    "plt.bar(event_types, event_counts)\n",
    "plt.xlabel('Event Types')\n",
    "plt.ylabel('Number of Events')\n",
    "plt.title('Number of Events by Type')\n",
    "plt.show()"
   ]
  },
  {
   "cell_type": "markdown",
   "id": "ab933afd-ab5a-492b-8a9f-e126d8a77fea",
   "metadata": {},
   "source": [
    "# Q6"
   ]
  },
  {
   "cell_type": "code",
   "execution_count": 69,
   "id": "21f932b8-5368-48d0-a27c-0ec8d62bf72c",
   "metadata": {
    "tags": []
   },
   "outputs": [],
   "source": [
    "session_data = data.groupby(['user_id', 'user_session', 'funnel_number', 'index_in_funnel']).agg(\n",
    "    num_events=('event_type', 'count'),\n",
    "    duration=('duration_to_next_event', 'sum'),\n",
    "    list_of_viewed=('product_id', lambda x: list(x[x.notnull()])),\n",
    "    list_of_added_to_cart=('product_id', lambda x: list(x[x == 'cart'].index)),\n",
    "    list_of_purchased=('product_id', lambda x: list(x[x == 'purchase'].index))\n",
    ").reset_index()\n"
   ]
  },
  {
   "cell_type": "code",
   "execution_count": 70,
   "id": "15c9f0a6-75b2-4dc4-bc2a-14f55e99766f",
   "metadata": {},
   "outputs": [
    {
     "data": {
      "text/html": [
       "<div>\n",
       "<style scoped>\n",
       "    .dataframe tbody tr th:only-of-type {\n",
       "        vertical-align: middle;\n",
       "    }\n",
       "\n",
       "    .dataframe tbody tr th {\n",
       "        vertical-align: top;\n",
       "    }\n",
       "\n",
       "    .dataframe thead th {\n",
       "        text-align: right;\n",
       "    }\n",
       "</style>\n",
       "<table border=\"1\" class=\"dataframe\">\n",
       "  <thead>\n",
       "    <tr style=\"text-align: right;\">\n",
       "      <th></th>\n",
       "      <th>user_id</th>\n",
       "      <th>user_session</th>\n",
       "      <th>funnel_number</th>\n",
       "      <th>index_in_funnel</th>\n",
       "      <th>num_events</th>\n",
       "      <th>duration</th>\n",
       "      <th>list_of_viewed</th>\n",
       "      <th>list_of_added_to_cart</th>\n",
       "      <th>list_of_purchased</th>\n",
       "    </tr>\n",
       "  </thead>\n",
       "  <tbody>\n",
       "    <tr>\n",
       "      <th>0</th>\n",
       "      <td>1120748</td>\n",
       "      <td>d0484d94-7ac1-44e8-a310-2360da11ad9d</td>\n",
       "      <td>1</td>\n",
       "      <td>1</td>\n",
       "      <td>1</td>\n",
       "      <td>0.0</td>\n",
       "      <td>[5240]</td>\n",
       "      <td>[]</td>\n",
       "      <td>[]</td>\n",
       "    </tr>\n",
       "    <tr>\n",
       "      <th>1</th>\n",
       "      <td>10079204</td>\n",
       "      <td>f873d16b-4efa-4e92-81be-92948aef2ff5</td>\n",
       "      <td>1</td>\n",
       "      <td>1</td>\n",
       "      <td>1</td>\n",
       "      <td>52.0</td>\n",
       "      <td>[5614842]</td>\n",
       "      <td>[]</td>\n",
       "      <td>[]</td>\n",
       "    </tr>\n",
       "    <tr>\n",
       "      <th>2</th>\n",
       "      <td>10079204</td>\n",
       "      <td>f873d16b-4efa-4e92-81be-92948aef2ff5</td>\n",
       "      <td>1</td>\n",
       "      <td>2</td>\n",
       "      <td>1</td>\n",
       "      <td>124.0</td>\n",
       "      <td>[5766379]</td>\n",
       "      <td>[]</td>\n",
       "      <td>[]</td>\n",
       "    </tr>\n",
       "    <tr>\n",
       "      <th>3</th>\n",
       "      <td>10079204</td>\n",
       "      <td>f873d16b-4efa-4e92-81be-92948aef2ff5</td>\n",
       "      <td>1</td>\n",
       "      <td>3</td>\n",
       "      <td>1</td>\n",
       "      <td>0.0</td>\n",
       "      <td>[5766379]</td>\n",
       "      <td>[]</td>\n",
       "      <td>[]</td>\n",
       "    </tr>\n",
       "    <tr>\n",
       "      <th>4</th>\n",
       "      <td>10079204</td>\n",
       "      <td>f873d16b-4efa-4e92-81be-92948aef2ff5</td>\n",
       "      <td>1</td>\n",
       "      <td>4</td>\n",
       "      <td>1</td>\n",
       "      <td>0.0</td>\n",
       "      <td>[5614842]</td>\n",
       "      <td>[]</td>\n",
       "      <td>[]</td>\n",
       "    </tr>\n",
       "  </tbody>\n",
       "</table>\n",
       "</div>"
      ],
      "text/plain": [
       "    user_id                          user_session  funnel_number   \n",
       "0   1120748  d0484d94-7ac1-44e8-a310-2360da11ad9d              1  \\\n",
       "1  10079204  f873d16b-4efa-4e92-81be-92948aef2ff5              1   \n",
       "2  10079204  f873d16b-4efa-4e92-81be-92948aef2ff5              1   \n",
       "3  10079204  f873d16b-4efa-4e92-81be-92948aef2ff5              1   \n",
       "4  10079204  f873d16b-4efa-4e92-81be-92948aef2ff5              1   \n",
       "\n",
       "   index_in_funnel  num_events  duration list_of_viewed list_of_added_to_cart   \n",
       "0                1           1       0.0         [5240]                    []  \\\n",
       "1                1           1      52.0      [5614842]                    []   \n",
       "2                2           1     124.0      [5766379]                    []   \n",
       "3                3           1       0.0      [5766379]                    []   \n",
       "4                4           1       0.0      [5614842]                    []   \n",
       "\n",
       "  list_of_purchased  \n",
       "0                []  \n",
       "1                []  \n",
       "2                []  \n",
       "3                []  \n",
       "4                []  "
      ]
     },
     "execution_count": 70,
     "metadata": {},
     "output_type": "execute_result"
    }
   ],
   "source": [
    "session_data.head(5)"
   ]
  },
  {
   "cell_type": "code",
   "execution_count": null,
   "id": "801137e5-9855-4ef2-a696-a92aee6f90be",
   "metadata": {},
   "outputs": [],
   "source": []
  }
 ],
 "metadata": {
  "kernelspec": {
   "display_name": "Python 3 (ipykernel)",
   "language": "python",
   "name": "python3"
  },
  "language_info": {
   "codemirror_mode": {
    "name": "ipython",
    "version": 3
   },
   "file_extension": ".py",
   "mimetype": "text/x-python",
   "name": "python",
   "nbconvert_exporter": "python",
   "pygments_lexer": "ipython3",
   "version": "3.10.2"
  }
 },
 "nbformat": 4,
 "nbformat_minor": 5
}
